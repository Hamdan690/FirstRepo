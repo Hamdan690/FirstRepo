{
 "cells": [
  {
   "cell_type": "code",
   "execution_count": 4,
   "id": "dfe07ea1",
   "metadata": {},
   "outputs": [
    {
     "name": "stdout",
     "output_type": "stream",
     "text": [
      "Sir Wahab will teach Python\n"
     ]
    }
   ],
   "source": [
    "teacher = \"Sir Wahab\"\n",
    "if teacher == \"Sir Wahab\":\n",
    "    print(\"Sir Wahab will teach Python\")\n",
    "else:\n",
    "    print(\"Dr. Mantashah will teach Python\")"
   ]
  }
 ],
 "metadata": {
  "kernelspec": {
   "display_name": "base",
   "language": "python",
   "name": "python3"
  },
  "language_info": {
   "codemirror_mode": {
    "name": "ipython",
    "version": 3
   },
   "file_extension": ".py",
   "mimetype": "text/x-python",
   "name": "python",
   "nbconvert_exporter": "python",
   "pygments_lexer": "ipython3",
   "version": "3.12.9"
  }
 },
 "nbformat": 4,
 "nbformat_minor": 5
}
